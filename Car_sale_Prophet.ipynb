{
  "nbformat": 4,
  "nbformat_minor": 0,
  "metadata": {
    "colab": {
      "name": "Carsale_Prophet.ipynb",
      "provenance": []
    },
    "kernelspec": {
      "name": "python3",
      "display_name": "Python 3"
    }
  },
  "cells": [
    {
      "cell_type": "code",
      "metadata": {
        "colab": {
          "base_uri": "https://localhost:8080/"
        },
        "id": "m_A7-1PQybTd",
        "outputId": "fa49e318-6653-4a49-c83c-8ee74acca654"
      },
      "source": [
        "pip install fbprophet"
      ],
      "execution_count": 1,
      "outputs": [
        {
          "output_type": "stream",
          "text": [
            "Requirement already satisfied: fbprophet in /usr/local/lib/python3.6/dist-packages (0.7.1)\n",
            "Requirement already satisfied: Cython>=0.22 in /usr/local/lib/python3.6/dist-packages (from fbprophet) (0.29.21)\n",
            "Requirement already satisfied: cmdstanpy==0.9.5 in /usr/local/lib/python3.6/dist-packages (from fbprophet) (0.9.5)\n",
            "Requirement already satisfied: pystan>=2.14 in /usr/local/lib/python3.6/dist-packages (from fbprophet) (2.19.1.1)\n",
            "Requirement already satisfied: numpy>=1.15.4 in /usr/local/lib/python3.6/dist-packages (from fbprophet) (1.18.5)\n",
            "Requirement already satisfied: pandas>=1.0.4 in /usr/local/lib/python3.6/dist-packages (from fbprophet) (1.1.5)\n",
            "Requirement already satisfied: matplotlib>=2.0.0 in /usr/local/lib/python3.6/dist-packages (from fbprophet) (3.2.2)\n",
            "Requirement already satisfied: LunarCalendar>=0.0.9 in /usr/local/lib/python3.6/dist-packages (from fbprophet) (0.0.9)\n",
            "Requirement already satisfied: convertdate>=2.1.2 in /usr/local/lib/python3.6/dist-packages (from fbprophet) (2.2.0)\n",
            "Requirement already satisfied: holidays>=0.10.2 in /usr/local/lib/python3.6/dist-packages (from fbprophet) (0.10.4)\n",
            "Requirement already satisfied: setuptools-git>=1.2 in /usr/local/lib/python3.6/dist-packages (from fbprophet) (1.2)\n",
            "Requirement already satisfied: python-dateutil>=2.8.0 in /usr/local/lib/python3.6/dist-packages (from fbprophet) (2.8.1)\n",
            "Requirement already satisfied: tqdm>=4.36.1 in /usr/local/lib/python3.6/dist-packages (from fbprophet) (4.41.1)\n",
            "Requirement already satisfied: pytz>=2017.2 in /usr/local/lib/python3.6/dist-packages (from pandas>=1.0.4->fbprophet) (2018.9)\n",
            "Requirement already satisfied: cycler>=0.10 in /usr/local/lib/python3.6/dist-packages (from matplotlib>=2.0.0->fbprophet) (0.10.0)\n",
            "Requirement already satisfied: kiwisolver>=1.0.1 in /usr/local/lib/python3.6/dist-packages (from matplotlib>=2.0.0->fbprophet) (1.3.1)\n",
            "Requirement already satisfied: pyparsing!=2.0.4,!=2.1.2,!=2.1.6,>=2.0.1 in /usr/local/lib/python3.6/dist-packages (from matplotlib>=2.0.0->fbprophet) (2.4.7)\n",
            "Requirement already satisfied: ephem>=3.7.5.3 in /usr/local/lib/python3.6/dist-packages (from LunarCalendar>=0.0.9->fbprophet) (3.7.7.1)\n",
            "Requirement already satisfied: pymeeus<=1,>=0.3.6 in /usr/local/lib/python3.6/dist-packages (from convertdate>=2.1.2->fbprophet) (0.3.7)\n",
            "Requirement already satisfied: six in /usr/local/lib/python3.6/dist-packages (from holidays>=0.10.2->fbprophet) (1.15.0)\n",
            "Requirement already satisfied: korean-lunar-calendar in /usr/local/lib/python3.6/dist-packages (from holidays>=0.10.2->fbprophet) (0.2.1)\n"
          ],
          "name": "stdout"
        }
      ]
    },
    {
      "cell_type": "code",
      "metadata": {
        "id": "DzH0sMRLy2aN"
      },
      "source": [
        "import fbprophet"
      ],
      "execution_count": 2,
      "outputs": []
    },
    {
      "cell_type": "code",
      "metadata": {
        "colab": {
          "base_uri": "https://localhost:8080/"
        },
        "id": "9M4J_XyZy7Yt",
        "outputId": "28d78004-086e-4c6f-eab2-edb9ac82a546"
      },
      "source": [
        "print('Prophet %s'% fbprophet.__version__)"
      ],
      "execution_count": 3,
      "outputs": [
        {
          "output_type": "stream",
          "text": [
            "Prophet 0.7.1\n"
          ],
          "name": "stdout"
        }
      ]
    },
    {
      "cell_type": "code",
      "metadata": {
        "colab": {
          "base_uri": "https://localhost:8080/"
        },
        "id": "v5zH0Zc4zDGu",
        "outputId": "7d10becf-333f-46b9-e2db-f09e599a5ac8"
      },
      "source": [
        "# load the car sales dataset\r\n",
        "from pandas import read_csv\r\n",
        "# load data\r\n",
        "path = '.......monthly-car-sales.csv'\r\n",
        "df = read_csv(path, header=0)\r\n",
        "# summarize shape\r\n",
        "print(df.shape)\r\n",
        "# show first few rows\r\n",
        "print(df.head())"
      ],
      "execution_count": 4,
      "outputs": [
        {
          "output_type": "stream",
          "text": [
            "(108, 2)\n",
            "     Month  Sales\n",
            "0  1960-01   6550\n",
            "1  1960-02   8728\n",
            "2  1960-03  12026\n",
            "3  1960-04  14395\n",
            "4  1960-05  14587\n"
          ],
          "name": "stdout"
        }
      ]
    },
    {
      "cell_type": "code",
      "metadata": {
        "colab": {
          "base_uri": "https://localhost:8080/",
          "height": 204
        },
        "id": "pCd9yH61zX0O",
        "outputId": "47fbf702-c521-4a02-ed63-e7a23ba9cf3a"
      },
      "source": [
        "df.tail()"
      ],
      "execution_count": 10,
      "outputs": [
        {
          "output_type": "execute_result",
          "data": {
            "text/html": [
              "<div>\n",
              "<style scoped>\n",
              "    .dataframe tbody tr th:only-of-type {\n",
              "        vertical-align: middle;\n",
              "    }\n",
              "\n",
              "    .dataframe tbody tr th {\n",
              "        vertical-align: top;\n",
              "    }\n",
              "\n",
              "    .dataframe thead th {\n",
              "        text-align: right;\n",
              "    }\n",
              "</style>\n",
              "<table border=\"1\" class=\"dataframe\">\n",
              "  <thead>\n",
              "    <tr style=\"text-align: right;\">\n",
              "      <th></th>\n",
              "      <th>ds</th>\n",
              "      <th>y</th>\n",
              "    </tr>\n",
              "  </thead>\n",
              "  <tbody>\n",
              "    <tr>\n",
              "      <th>103</th>\n",
              "      <td>1968-08-01</td>\n",
              "      <td>16722</td>\n",
              "    </tr>\n",
              "    <tr>\n",
              "      <th>104</th>\n",
              "      <td>1968-09-01</td>\n",
              "      <td>14385</td>\n",
              "    </tr>\n",
              "    <tr>\n",
              "      <th>105</th>\n",
              "      <td>1968-10-01</td>\n",
              "      <td>21342</td>\n",
              "    </tr>\n",
              "    <tr>\n",
              "      <th>106</th>\n",
              "      <td>1968-11-01</td>\n",
              "      <td>17180</td>\n",
              "    </tr>\n",
              "    <tr>\n",
              "      <th>107</th>\n",
              "      <td>1968-12-01</td>\n",
              "      <td>14577</td>\n",
              "    </tr>\n",
              "  </tbody>\n",
              "</table>\n",
              "</div>"
            ],
            "text/plain": [
              "            ds      y\n",
              "103 1968-08-01  16722\n",
              "104 1968-09-01  14385\n",
              "105 1968-10-01  21342\n",
              "106 1968-11-01  17180\n",
              "107 1968-12-01  14577"
            ]
          },
          "metadata": {
            "tags": []
          },
          "execution_count": 10
        }
      ]
    },
    {
      "cell_type": "code",
      "metadata": {
        "colab": {
          "base_uri": "https://localhost:8080/",
          "height": 265
        },
        "id": "Qwg5-DWlzVDH",
        "outputId": "382611ed-5a4e-4e47-dad9-b810bd691aa9"
      },
      "source": [
        "from matplotlib import pyplot\r\n",
        "df.plot()\r\n",
        "pyplot.show()"
      ],
      "execution_count": 5,
      "outputs": [
        {
          "output_type": "display_data",
          "data": {
            "image/png": "[encoded data removed]",
            "text/plain": [
              "<Figure size 432x288 with 1 Axes>"
            ]
          },
          "metadata": {
            "tags": [],
            "needs_background": "light"
          }
        }
      ]
    },
    {
      "cell_type": "code",
      "metadata": {
        "id": "-iA7DdhUz89p"
      },
      "source": [
        "from pandas import to_datetime\r\n",
        "from fbprophet import Prophet"
      ],
      "execution_count": 6,
      "outputs": []
    },
    {
      "cell_type": "code",
      "metadata": {
        "id": "knmbGEgR0Hf3"
      },
      "source": [
        "df.columns=['ds','y']\r\n",
        "df['ds']=to_datetime(df['ds'])"
      ],
      "execution_count": 7,
      "outputs": []
    },
    {
      "cell_type": "code",
      "metadata": {
        "colab": {
          "base_uri": "https://localhost:8080/"
        },
        "id": "30x26ysk0ZmE",
        "outputId": "ee9b9e2a-c51b-4e41-ce5a-cc9e322550bb"
      },
      "source": [
        "model=Prophet()\r\n",
        "model.fit(df)"
      ],
      "execution_count": 8,
      "outputs": [
        {
          "output_type": "stream",
          "text": [
            "INFO:numexpr.utils:NumExpr defaulting to 2 threads.\n",
            "INFO:fbprophet:Disabling weekly seasonality. Run prophet with weekly_seasonality=True to override this.\n",
            "INFO:fbprophet:Disabling daily seasonality. Run prophet with daily_seasonality=True to override this.\n"
          ],
          "name": "stderr"
        },
        {
          "output_type": "execute_result",
          "data": {
            "text/plain": [
              "<fbprophet.forecaster.Prophet at 0x7fb8509e5208>"
            ]
          },
          "metadata": {
            "tags": []
          },
          "execution_count": 8
        }
      ]
    },
    {
      "cell_type": "code",
      "metadata": {
        "id": "Ha-YYakY0d9u"
      },
      "source": [
        "from pandas import DataFrame\r\n",
        "# define the period for which we want a prediction\r\n",
        "future = list()\r\n",
        "for i in range(1,13):\r\n",
        "  date='1968-%02d' %i\r\n",
        "  future.append([date])\r\n",
        "future=DataFrame(future)"
      ],
      "execution_count": 12,
      "outputs": []
    },
    {
      "cell_type": "code",
      "metadata": {
        "colab": {
          "base_uri": "https://localhost:8080/",
          "height": 204
        },
        "id": "zxbYgzxQ8IPS",
        "outputId": "0eefa394-dec1-4aaf-fb8b-a2341af20bab"
      },
      "source": [
        "future.head()"
      ],
      "execution_count": 13,
      "outputs": [
        {
          "output_type": "execute_result",
          "data": {
            "text/html": [
              "<div>\n",
              "<style scoped>\n",
              "    .dataframe tbody tr th:only-of-type {\n",
              "        vertical-align: middle;\n",
              "    }\n",
              "\n",
              "    .dataframe tbody tr th {\n",
              "        vertical-align: top;\n",
              "    }\n",
              "\n",
              "    .dataframe thead th {\n",
              "        text-align: right;\n",
              "    }\n",
              "</style>\n",
              "<table border=\"1\" class=\"dataframe\">\n",
              "  <thead>\n",
              "    <tr style=\"text-align: right;\">\n",
              "      <th></th>\n",
              "      <th>0</th>\n",
              "    </tr>\n",
              "  </thead>\n",
              "  <tbody>\n",
              "    <tr>\n",
              "      <th>0</th>\n",
              "      <td>1968-01</td>\n",
              "    </tr>\n",
              "    <tr>\n",
              "      <th>1</th>\n",
              "      <td>1968-02</td>\n",
              "    </tr>\n",
              "    <tr>\n",
              "      <th>2</th>\n",
              "      <td>1968-03</td>\n",
              "    </tr>\n",
              "    <tr>\n",
              "      <th>3</th>\n",
              "      <td>1968-04</td>\n",
              "    </tr>\n",
              "    <tr>\n",
              "      <th>4</th>\n",
              "      <td>1968-05</td>\n",
              "    </tr>\n",
              "  </tbody>\n",
              "</table>\n",
              "</div>"
            ],
            "text/plain": [
              "         0\n",
              "0  1968-01\n",
              "1  1968-02\n",
              "2  1968-03\n",
              "3  1968-04\n",
              "4  1968-05"
            ]
          },
          "metadata": {
            "tags": []
          },
          "execution_count": 13
        }
      ]
    },
    {
      "cell_type": "code",
      "metadata": {
        "id": "it1wwFmi8Ri8"
      },
      "source": [
        "future.columns=['ds']\r\n",
        "future['ds']=to_datetime(future['ds'])"
      ],
      "execution_count": 15,
      "outputs": []
    },
    {
      "cell_type": "code",
      "metadata": {
        "id": "4yc1jtrC8kng"
      },
      "source": [
        "forecast=model.predict(future)"
      ],
      "execution_count": 16,
      "outputs": []
    },
    {
      "cell_type": "code",
      "metadata": {
        "colab": {
          "base_uri": "https://localhost:8080/",
          "height": 494
        },
        "id": "RZHJVn4Y8yIJ",
        "outputId": "49a5649a-28b5-4673-ee6d-855393c3893c"
      },
      "source": [
        "print(forecast[['ds','yhat','yhat_lower','yhat_upper']].head())\r\n",
        "model.plot(forecast)\r\n",
        "pyplot.show()"
      ],
      "execution_count": 18,
      "outputs": [
        {
          "output_type": "stream",
          "text": [
            "          ds          yhat    yhat_lower    yhat_upper\n",
            "0 1968-01-01  14334.737769  12633.729689  15839.517714\n",
            "1 1968-02-01  14905.955964  13291.095502  16494.354854\n",
            "2 1968-03-01  20842.150502  19297.587326  22410.078756\n",
            "3 1968-04-01  22870.095215  21365.426100  24473.906458\n",
            "4 1968-05-01  24176.211162  22678.737505  25663.953506\n"
          ],
          "name": "stdout"
        },
        {
          "output_type": "display_data",
          "data": {
            "image/png": "[encoded data removed]",
            "text/plain": [
              "<Figure size 720x432 with 1 Axes>"
            ]
          },
          "metadata": {
            "tags": []
          }
        }
      ]
    },
    {
      "cell_type": "code",
      "metadata": {
        "id": "Nl0fJUph9Nyp"
      },
      "source": [
        "##Make an Out-of-Sample Forecast"
      ],
      "execution_count": 19,
      "outputs": []
    },
    {
      "cell_type": "code",
      "metadata": {
        "id": "nQMFzQbp9oy0"
      },
      "source": [
        "future2=list()\r\n",
        "for i in range(1,13):\r\n",
        "  date='1969-%02d' % i\r\n",
        "  future2.append([date])\r\n",
        "future2=DataFrame(future2)"
      ],
      "execution_count": 20,
      "outputs": []
    },
    {
      "cell_type": "code",
      "metadata": {
        "id": "4Oqw1LttYZgw"
      },
      "source": [
        "future2.columns=['ds']\r\n",
        "future2['ds']=to_datetime(future2['ds'])\r\n",
        "forecast2=model.predict(future2)"
      ],
      "execution_count": 37,
      "outputs": []
    },
    {
      "cell_type": "code",
      "metadata": {
        "colab": {
          "base_uri": "https://localhost:8080/",
          "height": 494
        },
        "id": "Kmn-dhwaYvfn",
        "outputId": "27dcc2be-3e26-46a7-b53c-6dcb98e15533"
      },
      "source": [
        "print(forecast2[['ds','yhat','yhat_lower','yhat_upper']].head())\r\n",
        "model.plot(forecast2)\r\n",
        "pyplot.show()"
      ],
      "execution_count": 38,
      "outputs": [
        {
          "output_type": "stream",
          "text": [
            "          ds          yhat    yhat_lower    yhat_upper\n",
            "0 1969-01-01  14960.971567  13410.122820  16477.141416\n",
            "1 1969-02-01  15751.901572  14184.722877  17284.401421\n",
            "2 1969-03-01  21179.064426  19650.015363  22701.878224\n",
            "3 1969-04-01  23379.265471  21817.641288  24954.661871\n",
            "4 1969-05-01  24314.273396  22834.092386  25855.111605\n"
          ],
          "name": "stdout"
        },
        {
          "output_type": "display_data",
          "data": {
            "image/png": "[encoded data removed]",
            "text/plain": [
              "<Figure size 720x432 with 1 Axes>"
            ]
          },
          "metadata": {
            "tags": []
          }
        }
      ]
    },
    {
      "cell_type": "code",
      "metadata": {
        "id": "jm4HQ_yGY8qn"
      },
      "source": [
        "#Manually evaluate a Prophet model on a hold-out dataset"
      ],
      "execution_count": 39,
      "outputs": []
    },
    {
      "cell_type": "code",
      "metadata": {
        "id": "PCAl8sSfbZbt"
      },
      "source": [
        "from sklearn.metrics import mean_absolute_error"
      ],
      "execution_count": 40,
      "outputs": []
    },
    {
      "cell_type": "code",
      "metadata": {
        "colab": {
          "base_uri": "https://localhost:8080/"
        },
        "id": "doxsj5I5bgyO",
        "outputId": "9c6b7fd3-5b8e-4396-b898-93e3c18445ba"
      },
      "source": [
        "train=df.drop(df.index[-12:])\r\n",
        "print(train.tail())"
      ],
      "execution_count": 41,
      "outputs": [
        {
          "output_type": "stream",
          "text": [
            "           ds      y\n",
            "91 1967-08-01  13434\n",
            "92 1967-09-01  13598\n",
            "93 1967-10-01  17187\n",
            "94 1967-11-01  16119\n",
            "95 1967-12-01  13713\n"
          ],
          "name": "stdout"
        }
      ]
    },
    {
      "cell_type": "code",
      "metadata": {
        "colab": {
          "base_uri": "https://localhost:8080/"
        },
        "id": "ptekct42brwK",
        "outputId": "a14ec347-2e37-4f83-fb81-8a364d705a3e"
      },
      "source": [
        "model=Prophet()\r\n",
        "model.fit(train)"
      ],
      "execution_count": 42,
      "outputs": [
        {
          "output_type": "stream",
          "text": [
            "INFO:fbprophet:Disabling weekly seasonality. Run prophet with weekly_seasonality=True to override this.\n",
            "INFO:fbprophet:Disabling daily seasonality. Run prophet with daily_seasonality=True to override this.\n"
          ],
          "name": "stderr"
        },
        {
          "output_type": "execute_result",
          "data": {
            "text/plain": [
              "<fbprophet.forecaster.Prophet at 0x7fb840979780>"
            ]
          },
          "metadata": {
            "tags": []
          },
          "execution_count": 42
        }
      ]
    },
    {
      "cell_type": "code",
      "metadata": {
        "id": "V24HOdsYb6RU"
      },
      "source": [
        "future3=list()\r\n",
        "for i in range(1,13):\r\n",
        "  date='1968-%02d' % i\r\n",
        "  future3.append([date])\r\n",
        "future3=DataFrame(future3)\r\n",
        "future3.columns=['ds']\r\n",
        "future['ds']=to_datetime(future['ds'])"
      ],
      "execution_count": 43,
      "outputs": []
    },
    {
      "cell_type": "code",
      "metadata": {
        "id": "fd5xoQk3cbwS"
      },
      "source": [
        "forcast3=model.predict(future3)"
      ],
      "execution_count": 44,
      "outputs": []
    },
    {
      "cell_type": "code",
      "metadata": {
        "colab": {
          "base_uri": "https://localhost:8080/"
        },
        "id": "JJKBaGrAchcV",
        "outputId": "a66caf6b-d730-4ae4-e521-6497f08eb4e4"
      },
      "source": [
        "y_true=df['y'][-12:].values\r\n",
        "y_pred=forecast['yhat'].values\r\n",
        "mae=mean_absolute_error(y_true, y_pred)\r\n",
        "print('MAE:% .3f' %mae)"
      ],
      "execution_count": 45,
      "outputs": [
        {
          "output_type": "stream",
          "text": [
            "MAE: 1054.166\n"
          ],
          "name": "stdout"
        }
      ]
    },
    {
      "cell_type": "code",
      "metadata": {
        "colab": {
          "base_uri": "https://localhost:8080/",
          "height": 265
        },
        "id": "MLwq7p-ocr8W",
        "outputId": "7222a216-362e-421e-9855-0bcbf2d04c67"
      },
      "source": [
        "pyplot.plot(y_true,label='Actual')\r\n",
        "pyplot.plot(y_pred,label='Predicted')\r\n",
        "pyplot.legend()\r\n",
        "pyplot.show()"
      ],
      "execution_count": 46,
      "outputs": [
        {
          "output_type": "display_data",
          "data": {
            "image/png": "[encoded data removed]",
            "text/plain": [
              "<Figure size 432x288 with 1 Axes>"
            ]
          },
          "metadata": {
            "tags": [],
            "needs_background": "light"
          }
        }
      ]
    },
    {
      "cell_type": "code",
      "metadata": {
        "id": "jelv5QtfdJDB"
      },
      "source": [
        "# The forecast is a good fit. The model has skill and forecast that looks sensible"
      ],
      "execution_count": 47,
      "outputs": []
    },
    {
      "cell_type": "code",
      "metadata": {
        "id": "FVOoLEucdWkD"
      },
      "source": [
        ""
      ],
      "execution_count": 47,
      "outputs": []
    }
  ]
}